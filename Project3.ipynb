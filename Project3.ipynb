{
 "cells": [
  {
   "cell_type": "markdown",
   "metadata": {},
   "source": [
    "# Project 3"
   ]
  },
  {
   "cell_type": "code",
   "execution_count": 1,
   "metadata": {},
   "outputs": [],
   "source": [
    "# Importing packages\n",
    "\n",
    "import numpy as np\n",
    "import matplotlib.pyplot as plt\n",
    "import astropy.io.ascii \n",
    "\n",
    "import astropy.units as u\n",
    "import astropy.constants as c"
   ]
  },
  {
   "cell_type": "code",
   "execution_count": 2,
   "metadata": {},
   "outputs": [],
   "source": [
    "# Reading text file\n",
    "\n",
    "spec = astropy.io.ascii.read(\"solar_spectrum.txt\")"
   ]
  },
  {
   "cell_type": "code",
   "execution_count": 3,
   "metadata": {},
   "outputs": [
    {
     "data": {
      "text/plain": [
       "Text(0, 0.5, 'Normalized Flux')"
      ]
     },
     "execution_count": 3,
     "metadata": {},
     "output_type": "execute_result"
    },
    {
     "data": {
      "image/png": "[encoded data removed]",
      "text/plain": [
       "<Figure size 432x288 with 1 Axes>"
      ]
     },
     "metadata": {
      "needs_background": "light"
     },
     "output_type": "display_data"
    }
   ],
   "source": [
    "# Creating a Spcetroscopy Plot\n",
    "\n",
    "plt.plot(spec[\"col1\"], spec[\"col2\"] / 1e4)\n",
    "plt.vlines(5887.5, 0, 1, color=\"red\")\n",
    "plt.vlines(5892.5, 0, 1, color=\"red\")\n",
    "plt.xlim(5885, 5900)\n",
    "plt.xlabel(\"Wavelength [Angstrom]\")\n",
    "plt.ylabel(\"Normalized Flux\")"
   ]
  },
  {
   "cell_type": "code",
   "execution_count": 4,
   "metadata": {},
   "outputs": [
    {
     "name": "stdout",
     "output_type": "stream",
     "text": [
      "Equivalent Width (ew) =  0.8346720000182191  Angstroms\n"
     ]
    }
   ],
   "source": [
    "# Finding the eqiuvalent width\n",
    "\n",
    "ind = np.where((spec[\"col1\"] < 5892.5) & (spec[\"col1\"] > 5887.5))\n",
    "inc = np.median(np.diff(spec[\"col1\"][ind]))\n",
    "ew = np.sum(1e4 - spec[\"col2\"][ind]) * inc / 1e4\n",
    "print(\"Equivalent Width (ew) = \", ew, \" Angstroms\")"
   ]
  },
  {
   "cell_type": "markdown",
   "metadata": {},
   "source": [
    "# Question 1: What is the number density of Na atoms in the gorund state?"
   ]
  },
  {
   "cell_type": "code",
   "execution_count": 5,
   "metadata": {},
   "outputs": [
    {
     "name": "stdout",
     "output_type": "stream",
     "text": [
      "The number density of Na atoms in the ground state is 8.240268309784437 atoms/cm^2\n"
     ]
    }
   ],
   "source": [
    "# Ground state number density\n",
    "\n",
    "GSN = 10**14.8 / 0.65 / (5890 / 5000) / 1e14\n",
    "\n",
    "print (\"The number density of Na atoms in the ground state is\", GSN, \"atoms/cm^2\")"
   ]
  },
  {
   "cell_type": "markdown",
   "metadata": {},
   "source": [
    "# Question 2: Whay is the number density of neutral Na atoms?"
   ]
  },
  {
   "cell_type": "markdown",
   "metadata": {},
   "source": [
    "# Boltzman Equation\n"
   ]
  },
  {
   "cell_type": "markdown",
   "metadata": {},
   "source": [
    "The boltzman equation is defined as $\\frac{N_2}{N_1} = \\frac{g_2}{g_1} * exp(-\\frac{E_2-E_1}{kT})$. We will be using this equation to estimate the ratio of sodium atoms in the ground state to Na atoms in the excited state."
   ]
  },
  {
   "cell_type": "markdown",
   "metadata": {},
   "source": [
    "### Computing $\\Delta E$ using $\\Delta E = \\frac{hc}{\\lambda}$"
   ]
  },
  {
   "cell_type": "code",
   "execution_count": 6,
   "metadata": {},
   "outputs": [
    {
     "name": "stdout",
     "output_type": "stream",
     "text": [
      "The change in energy between the ground state and the excited state is 3.372573611458283e-19 J\n"
     ]
    }
   ],
   "source": [
    "delta_E = (c.h  * c.c )/(5890 * 10**-10 * u.m) # Need to convert units from Angstroms to meters\n",
    "\n",
    "\n",
    "print (\"The change in energy between the ground state and the excited state is\", delta_E)"
   ]
  },
  {
   "cell_type": "markdown",
   "metadata": {},
   "source": [
    "### Computing the exopnential $\\exp(-\\frac{\\Delta E}{kT})$"
   ]
  },
  {
   "cell_type": "code",
   "execution_count": 7,
   "metadata": {},
   "outputs": [
    {
     "name": "stdout",
     "output_type": "stream",
     "text": [
      "The exponential value is equal to 0.014607756340799452\n"
     ]
    }
   ],
   "source": [
    "expo = np.e**(-((delta_E)/(c.k_B * 5780 * u.K)))\n",
    "\n",
    "print(\"The exponential value is equal to\",expo)\n",
    "\n"
   ]
  },
  {
   "cell_type": "markdown",
   "metadata": {},
   "source": [
    "### Finding values for $g_1$ and $g_2$"
   ]
  },
  {
   "cell_type": "markdown",
   "metadata": {},
   "source": [
    "Note that a ground state electron (3s) has 2 seperate states that are degenderate in energy, while an excited state electron (3p) has 6 seperate states that are degenerate in energy. These values can be found by noting that the 3s orbital state electron can either have a spin up or spin down, while the 3p electron can have an up or down spin and a magnetic quantum number of -1,0,1, leading to 6 seperate states. So,\n",
    "$ g_1 = 2$ and $ g_2 = 6 $.\n",
    "\n"
   ]
  },
  {
   "cell_type": "markdown",
   "metadata": {},
   "source": [
    " ### Solving the boltzman equation for $ \\frac{N_2}{N_1} $"
   ]
  },
  {
   "cell_type": "code",
   "execution_count": 8,
   "metadata": {},
   "outputs": [
    {
     "name": "stdout",
     "output_type": "stream",
     "text": [
      "The ratio of sodium atoms in the excited state to sodium atoms in the ground state is 0.04382326902239836 or 22.818927531145462 for the ratio of soidum atoms in the ground state to thsose in the excited state\n"
     ]
    }
   ],
   "source": [
    "ratio_exc_to_ground = (6/2) * expo\n",
    "\n",
    "ratio_ground_to_exc = 1 / ratio_exc_to_ground\n",
    "\n",
    "\n",
    "\n",
    "print(\"The ratio of sodium atoms in the excited state to sodium atoms in the ground state is\", ratio_exc_to_ground,\n",
    "     \"or\", ratio_ground_to_exc, \"for the ratio of soidum atoms in the ground state to thsose in the excited state\" )"
   ]
  },
  {
   "cell_type": "code",
   "execution_count": 9,
   "metadata": {},
   "outputs": [
    {
     "name": "stdout",
     "output_type": "stream",
     "text": [
      "The number density of neutral Na atoms is 860110373674456.2  atoms/cm^2\n"
     ]
    }
   ],
   "source": [
    "N1 = 8.24e14\n",
    "\n",
    "N2 = ratio_exc_to_ground * N1\n",
    "\n",
    "NaNeutral = N1 + N2\n",
    "\n",
    "print (\"The number density of neutral Na atoms is\", NaNeutral, \" atoms/cm^2\")"
   ]
  },
  {
   "cell_type": "markdown",
   "metadata": {},
   "source": [
    "# Question 3: What is the number density of Na atoms?"
   ]
  },
  {
   "cell_type": "markdown",
   "metadata": {},
   "source": [
    "# Saha Equation"
   ]
  },
  {
   "cell_type": "markdown",
   "metadata": {},
   "source": [
    "The Saha equation is defined as $\\frac{Na_{2}}{Na_{I}} = \\frac{2kT}{P_e} \\frac{Z_{II}}{Z_I} \\left(\\frac{2\\pi m_e kT}{h^2}\\right)^{3/2}\\exp{\\left(-\\frac{\\chi}{kT}\\right)}$ . We will be using this equation to estimate the ratio of neutral sodium atoms to ionized sodium atoms."
   ]
  },
  {
   "cell_type": "markdown",
   "metadata": {},
   "source": [
    "### Calculting the exponential $\\exp(-\\frac{\\chi}{kT})$"
   ]
  },
  {
   "cell_type": "code",
   "execution_count": 10,
   "metadata": {
    "scrolled": true
   },
   "outputs": [
    {
     "name": "stdout",
     "output_type": "stream",
     "text": [
      "The exopnential value is 3.573854729672457e-05\n"
     ]
    }
   ],
   "source": [
    "exp2 = np.e**((-5.1 * u.electronvolt)/(c.k_B * 5780 * u.K))\n",
    "\n",
    "print (\"The exponential value is\", exp2)"
   ]
  },
  {
   "cell_type": "markdown",
   "metadata": {},
   "source": [
    "### Calculating $(\\frac{2\\pi m_e kT}{h^2})^{3/2}$"
   ]
  },
  {
   "cell_type": "code",
   "execution_count": 11,
   "metadata": {},
   "outputs": [
    {
     "name": "stdout",
     "output_type": "stream",
     "text": [
      "This term's value is 1.0594500465024069e+27 kg(3/2) / (J(3/2) s3)\n"
     ]
    },
    {
     "data": {
      "text/latex": [
       "$1.05945 \\times 10^{27} \\; \\mathrm{\\frac{1}{m^{3}}}$"
      ],
      "text/plain": [
       "<Quantity 1.05945005e+27 1 / m3>"
      ]
     },
     "execution_count": 11,
     "metadata": {},
     "output_type": "execute_result"
    }
   ],
   "source": [
    "secondterm2 = ( (2 * np.pi * 9.1e-31 * u.kg * c.k_B * 5780 * u.K)/(c.h**2))**(1.5)\n",
    "\n",
    "print (\"This term's value is\", secondterm2)\n",
    "\n",
    "secondterm2.decompose ()"
   ]
  },
  {
   "cell_type": "markdown",
   "metadata": {},
   "source": [
    "### Calculating the value of $\\frac{2kT}{P_e} \\frac{Z_{II}}{Z_I}$"
   ]
  },
  {
   "cell_type": "code",
   "execution_count": 12,
   "metadata": {},
   "outputs": [
    {
     "name": "stdout",
     "output_type": "stream",
     "text": [
      "This term's value is 6.650126016666667e-20 J m2 / N\n"
     ]
    },
    {
     "data": {
      "text/latex": [
       "$6.650126 \\times 10^{-20} \\; \\mathrm{m^{3}}$"
      ],
      "text/plain": [
       "<Quantity 6.65012602e-20 m3>"
      ]
     },
     "execution_count": 12,
     "metadata": {},
     "output_type": "execute_result"
    }
   ],
   "source": [
    "firstterm2 = (2 * c.k_B * 5780 * u.K / ( u.N * u.m**(-2))) * (1/2.4)\n",
    "\n",
    "print (\"This term's value is\", firstterm2)\n",
    "\n",
    "firstterm2.decompose ()"
   ]
  },
  {
   "cell_type": "markdown",
   "metadata": {},
   "source": [
    "### Ratio of neutral sodium atoms to ionized sodium atoms"
   ]
  },
  {
   "cell_type": "code",
   "execution_count": 13,
   "metadata": {},
   "outputs": [
    {
     "name": "stdout",
     "output_type": "stream",
     "text": [
      "The ratio of neutral sodium atoms to ionized sodium atoms is 2517.950886046565\n"
     ]
    }
   ],
   "source": [
    "ratio_neu_to_ion = firstterm2 * secondterm2 * exp2\n",
    "\n",
    "print (\"The ratio of neutral sodium atoms to ionized sodium atoms is\" ,\n",
    "       ratio_neu_to_ion.decompose())"
   ]
  },
  {
   "cell_type": "code",
   "execution_count": 14,
   "metadata": {},
   "outputs": [
    {
     "name": "stdout",
     "output_type": "stream",
     "text": [
      "The number density of ionized Na atoms is 2.165715677491439e+18 atoms/cm^2\n"
     ]
    }
   ],
   "source": [
    "Ionized = NaNeutral * ratio_neu_to_ion\n",
    "\n",
    "print (\"The number density of ionized Na atoms is\", Ionized, \"atoms/cm^2\")"
   ]
  },
  {
   "cell_type": "markdown",
   "metadata": {},
   "source": [
    "# Question 4: Total Number Density of Na Atoms in All States"
   ]
  },
  {
   "cell_type": "code",
   "execution_count": 15,
   "metadata": {},
   "outputs": [
    {
     "name": "stdout",
     "output_type": "stream",
     "text": [
      "The total number density of Na atoms in all states is 2.1665757878651136e+18 atoms/cm^2\n"
     ]
    }
   ],
   "source": [
    "Total = NaNeutral + Ionized + GSN\n",
    "\n",
    "print (\"The total number density of Na atoms in all states is\",Total, \"atoms/cm^2\")"
   ]
  },
  {
   "cell_type": "markdown",
   "metadata": {},
   "source": [
    "# Findind the total number density of Na atoms in all states using the following equation $N_{1} \\times (1+\\frac{N_2}{N_1}) \\times (1+\\frac{Na_{II}}{Na_{I}}$)"
   ]
  },
  {
   "cell_type": "markdown",
   "metadata": {},
   "source": [
    "The equation $N_{1} \\times (1+\\frac{N_2}{N_1})\\times (1+\\frac{Na_{II}}{Na_{I}}$) will be used, with both ratios being from problems 1 and 2, respectively. "
   ]
  },
  {
   "cell_type": "code",
   "execution_count": 16,
   "metadata": {},
   "outputs": [
    {
     "name": "stdout",
     "output_type": "stream",
     "text": [
      "The total column density of sodium atoms in the sun's photosphere is 2.1665757878651136e+18\n"
     ]
    }
   ],
   "source": [
    "N1 = 8.24e14\n",
    "\n",
    "coldensity = N1 * (1 + ratio_exc_to_ground) * (1 + ratio_neu_to_ion )\n",
    "\n",
    "print (\"The total column density of sodium atoms in the sun's photosphere is\", coldensity)"
   ]
  },
  {
   "cell_type": "markdown",
   "metadata": {},
   "source": [
    "As can be seen, the two above methods yield the same result for total number density of Na atoms in all states."
   ]
  },
  {
   "cell_type": "markdown",
   "metadata": {},
   "source": [
    "# Question 5: Abundances"
   ]
  },
  {
   "cell_type": "markdown",
   "metadata": {},
   "source": [
    "### In Terms of Galactic Astronomy"
   ]
  },
  {
   "cell_type": "code",
   "execution_count": 17,
   "metadata": {},
   "outputs": [
    {
     "name": "stdout",
     "output_type": "stream",
     "text": [
      "6.5162299499245\n"
     ]
    }
   ],
   "source": [
    "GAbund = 12 + np.log10( (Total) / (6.6e23 ) )\n",
    "\n",
    "print (GAbund)"
   ]
  },
  {
   "cell_type": "markdown",
   "metadata": {},
   "source": [
    "### In Physicist Terms"
   ]
  },
  {
   "cell_type": "code",
   "execution_count": 18,
   "metadata": {},
   "outputs": [
    {
     "name": "stdout",
     "output_type": "stream",
     "text": [
      "1.9952623149688787e-06\n"
     ]
    }
   ],
   "source": [
    "PAbund = 10**6.3 / 10**12\n",
    "\n",
    "print (PAbund)"
   ]
  },
  {
   "cell_type": "markdown",
   "metadata": {},
   "source": [
    "### In Terms of Stellar Astronomy"
   ]
  },
  {
   "cell_type": "code",
   "execution_count": 19,
   "metadata": {},
   "outputs": [
    {
     "name": "stdout",
     "output_type": "stream",
     "text": [
      "0.0\n"
     ]
    }
   ],
   "source": [
    "SAbund = np.log10 ( (Total / 6.6e23) / (Total / 6.6e23))\n",
    "\n",
    "print (SAbund)"
   ]
  }
 ],
 "metadata": {
  "kernelspec": {
   "display_name": "Python 3.8 (py38)",
   "language": "python",
   "name": "py38"
  },
  "language_info": {
   "codemirror_mode": {
    "name": "ipython",
    "version": 3
   },
   "file_extension": ".py",
   "mimetype": "text/x-python",
   "name": "python",
   "nbconvert_exporter": "python",
   "pygments_lexer": "ipython3",
   "version": "3.8.5"
  }
 },
 "nbformat": 4,
 "nbformat_minor": 5
}
