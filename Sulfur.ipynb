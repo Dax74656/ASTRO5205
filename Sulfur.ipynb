{
 "cells": [
  {
   "cell_type": "code",
   "execution_count": 1,
   "id": "1484065f",
   "metadata": {},
   "outputs": [],
   "source": [
    "# Sulfur abundance: 7.17\n",
    "# 12 + log((32 * S)/ 6.6 * 10 ** 23)\n",
    "# S = 3.051 * 10 ** 17\n",
    "# Abundance = S / 6.6 * 10 ** 23 = 4.623 * 10 ** -7\n",
    "# Atom number is 3.275 * 10 ** 14 atom / cm ** 2\n",
    "# For every neutral there are 744 excited\n",
    "# assuming that ground state includes 80% of neutral Sulfur"
   ]
  },
  {
   "cell_type": "code",
   "execution_count": 2,
   "id": "23d81d80",
   "metadata": {},
   "outputs": [],
   "source": [
    "import numpy as np\n",
    "import matplotlib.pyplot as plt\n",
    "import astropy.io.ascii\n",
    "import pandas as pd"
   ]
  },
  {
   "cell_type": "code",
   "execution_count": 3,
   "id": "cc5d1284",
   "metadata": {},
   "outputs": [],
   "source": [
    "dataS = pd.read_csv('Sulfur1.txt', sep=\"\\t\")\n",
    "Sw = dataS[\"Wave\"] * 10\n",
    "So = dataS[\"Osc\"] * 1000 * 7.3"
   ]
  },
  {
   "cell_type": "code",
   "execution_count": 4,
   "id": "988021b2",
   "metadata": {},
   "outputs": [],
   "source": [
    "spec = astropy.io.ascii.read(\"solar_spectrum.txt\")"
   ]
  },
  {
   "cell_type": "code",
   "execution_count": 5,
   "id": "1a5afc20",
   "metadata": {},
   "outputs": [
    {
     "data": {
      "text/plain": [
       "Text(0, 0.5, 'Normalized Flux')"
      ]
     },
     "execution_count": 5,
     "metadata": {},
     "output_type": "execute_result"
    },
    {
     "data": {
      "image/png": "[encoded data removed]",
      "text/plain": [
       "<Figure size 432x288 with 1 Axes>"
      ]
     },
     "metadata": {
      "needs_background": "light"
     },
     "output_type": "display_data"
    }
   ],
   "source": [
    "plt.plot(spec[\"col1\"], spec[\"col2\"] / 1e4)\n",
    "# plt.vlines(5887.5, 0, 10000, color=\"red\")\n",
    "# plt.vlines(5892.5, 0, 10000, color=\"red\")\n",
    "plt.vlines(5887.5, 0, 1, color=\"red\")\n",
    "plt.vlines(5892.5, 0, 1, color=\"red\")\n",
    "plt.plot(Sw, So)\n",
    "plt.xlim(5885, 5886)\n",
    "plt.ylim(.94,.99)\n",
    "plt.xlabel(\"Wavelength [Angstrom]\")\n",
    "plt.ylabel(\"Normalized Flux\")"
   ]
  },
  {
   "cell_type": "code",
   "execution_count": 6,
   "id": "05615926",
   "metadata": {},
   "outputs": [
    {
     "name": "stdout",
     "output_type": "stream",
     "text": [
      "equivalent width (ew) =  0.009446000000206185  Angstrom\n"
     ]
    }
   ],
   "source": [
    "ind = np.where((spec[\"col1\"] < 5885.58) & (spec[\"col1\"] > 5885.23))\n",
    "inc = np.median(np.diff(spec[\"col1\"][ind]))\n",
    "ew = np.sum(1e4 - spec[\"col2\"][ind]) * inc / 1e4\n",
    "print(\"equivalent width (ew) = \", ew, \" Angstrom\")"
   ]
  },
  {
   "cell_type": "code",
   "execution_count": 7,
   "id": "53464353",
   "metadata": {},
   "outputs": [
    {
     "data": {
      "text/plain": [
       "-5.794527305757963"
      ]
     },
     "execution_count": 7,
     "metadata": {},
     "output_type": "execute_result"
    }
   ],
   "source": [
    "np.log10(0.009446 / 5885.39)"
   ]
  },
  {
   "cell_type": "code",
   "execution_count": 19,
   "id": "2d25fe32",
   "metadata": {},
   "outputs": [
    {
     "name": "stdout",
     "output_type": "stream",
     "text": [
      "3.275296846873172\n"
     ]
    }
   ],
   "source": [
    "Numden = 10 ** 10.7 / 0.00013 / (5885.4 / 5000) / 1e14\n",
    "# atom/cm^2 for Sulfur is 3.28 * 10 ** 14\n",
    "print(Numden)"
   ]
  },
  {
   "cell_type": "code",
   "execution_count": 13,
   "id": "25099a62",
   "metadata": {},
   "outputs": [
    {
     "name": "stdout",
     "output_type": "stream",
     "text": [
      "3.3775104495871144e-19 J\n"
     ]
    }
   ],
   "source": [
    "Energy = ((6.626 * 10 ** -34) * (3 * 10 ** 8)) / (5.8854 * 10 ** -7)\n",
    "print(Energy, 'J')"
   ]
  },
  {
   "cell_type": "code",
   "execution_count": 15,
   "id": "fbfb924a",
   "metadata": {},
   "outputs": [
    {
     "name": "stdout",
     "output_type": "stream",
     "text": [
      "0.014701905424290571\n"
     ]
    }
   ],
   "source": [
    "Nab = np.exp((-1 * Energy) / ((1.38 * 10 ** -23) * (5800))) * 1\n",
    "print(Nab)\n",
    "# Assume that ground state includes 80% of neutral Sulfur"
   ]
  },
  {
   "cell_type": "code",
   "execution_count": 21,
   "id": "795c2a82",
   "metadata": {},
   "outputs": [
    {
     "name": "stdout",
     "output_type": "stream",
     "text": [
      "3.050120188650641e+17\n"
     ]
    }
   ],
   "source": [
    "NTotal = (Numden * 1e14) * (1 / .8) * (745)\n",
    "print(NTotal)"
   ]
  },
  {
   "cell_type": "code",
   "execution_count": 23,
   "id": "e0d1480e",
   "metadata": {},
   "outputs": [
    {
     "name": "stdout",
     "output_type": "stream",
     "text": [
      "7.169922995645919\n"
     ]
    }
   ],
   "source": [
    "Abundance = 12 + np.log10((NTotal * 32)/(6.6 * 10 ** 23))\n",
    "print(Abundance)"
   ]
  }
 ],
 "metadata": {
  "kernelspec": {
   "display_name": "Python 3 (ipykernel)",
   "language": "python",
   "name": "python3"
  },
  "language_info": {
   "codemirror_mode": {
    "name": "ipython",
    "version": 3
   },
   "file_extension": ".py",
   "mimetype": "text/x-python",
   "name": "python",
   "nbconvert_exporter": "python",
   "pygments_lexer": "ipython3",
   "version": "3.9.12"
  }
 },
 "nbformat": 4,
 "nbformat_minor": 5
}
