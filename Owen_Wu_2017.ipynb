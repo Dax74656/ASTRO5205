{
 "cells": [
  {
   "cell_type": "code",
   "execution_count": 1,
   "metadata": {},
   "outputs": [],
   "source": [
    "import numpy as np\n",
    "import matplotlib.pyplot as plt"
   ]
  },
  {
   "cell_type": "code",
   "execution_count": 2,
   "metadata": {},
   "outputs": [],
   "source": [
    "import astropy.units as u\n",
    "import astropy.constants as ac"
   ]
  },
  {
   "cell_type": "markdown",
   "metadata": {},
   "source": [
    "## Calculating Earth atmosphere scale height\n",
    "\n",
    "## $H = \\frac{k_B\\cdot T}{\\mu m_H g}$"
   ]
  },
  {
   "cell_type": "code",
   "execution_count": 5,
   "metadata": {},
   "outputs": [],
   "source": [
    "H = (ac.k_B * 300 * u.K / (29 * u.u * 9.8 * u.m / u.s**2))"
   ]
  },
  {
   "cell_type": "code",
   "execution_count": 47,
   "metadata": {},
   "outputs": [
    {
     "name": "stdout",
     "output_type": "stream",
     "text": [
      "Earth atmosphere scale height is:  8.776702274130757 km\n"
     ]
    }
   ],
   "source": [
    "print(\"Earth atmosphere scale height is: \", H.decompose().to(u.km))"
   ]
  },
  {
   "cell_type": "markdown",
   "metadata": {},
   "source": [
    "## Now calculating the envelope mass fraction for Rp = 2 Rc"
   ]
  },
  {
   "cell_type": "code",
   "execution_count": 42,
   "metadata": {},
   "outputs": [],
   "source": [
    "Rc = 1.0 * u.earthRad\n",
    "Rp = 2.0 * u.earthRad\n",
    "gamma = 5.0 / 3.0\n",
    "adi_gradient = (gamma - 1) / gamma\n",
    "G = ac.G\n",
    "P = 30 * u.bar\n",
    "rho = 0.001 * u.g / u.cm**3\n",
    "Mc = 1.0 * u.earthMass"
   ]
  },
  {
   "cell_type": "code",
   "execution_count": 43,
   "metadata": {},
   "outputs": [],
   "source": [
    "K = P / rho**gamma"
   ]
  },
  {
   "cell_type": "code",
   "execution_count": 44,
   "metadata": {},
   "outputs": [],
   "source": [
    "M_env = 4 * np.pi * Rp**3 * K**(-1.0 / (gamma - 1.0)) * (adi_gradient * G * Mc / Rp)**(1.0 / (gamma - 1.0))"
   ]
  },
  {
   "cell_type": "code",
   "execution_count": 45,
   "metadata": {},
   "outputs": [],
   "source": [
    "X = M_env / Mc"
   ]
  },
  {
   "cell_type": "code",
   "execution_count": 46,
   "metadata": {},
   "outputs": [
    {
     "name": "stdout",
     "output_type": "stream",
     "text": [
      "0.03714279123692038\n"
     ]
    }
   ],
   "source": [
    "print(X.decompose())"
   ]
  },
  {
   "cell_type": "code",
   "execution_count": null,
   "metadata": {},
   "outputs": [],
   "source": []
  }
 ],
 "metadata": {
  "kernelspec": {
   "display_name": "Python 3 (ipykernel)",
   "language": "python",
   "name": "python3"
  },
  "language_info": {
   "codemirror_mode": {
    "name": "ipython",
    "version": 3
   },
   "file_extension": ".py",
   "mimetype": "text/x-python",
   "name": "python",
   "nbconvert_exporter": "python",
   "pygments_lexer": "ipython3",
   "version": "3.9.12"
  }
 },
 "nbformat": 4,
 "nbformat_minor": 4
}
